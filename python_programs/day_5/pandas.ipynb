{
 "cells": [
  {
   "cell_type": "code",
   "execution_count": 48,
   "metadata": {},
   "outputs": [],
   "source": [
    "# Pandas\n",
    "import pandas as pd\n",
    "import numpy as np\n",
    "import matplotlib.pyplot as plt\n",
    "import seaborn"
   ]
  },
  {
   "cell_type": "code",
   "execution_count": 49,
   "metadata": {},
   "outputs": [],
   "source": [
    "%matplotlib inline"
   ]
  },
  {
   "cell_type": "code",
   "execution_count": 6,
   "metadata": {},
   "outputs": [],
   "source": [
    "# Series in pandas\n",
    "s = pd.Series([0.1, 0.2, 0.3, 0.4])"
   ]
  },
  {
   "cell_type": "code",
   "execution_count": 7,
   "metadata": {},
   "outputs": [
    {
     "name": "stdout",
     "output_type": "stream",
     "text": [
      "0    0.1\n",
      "1    0.2\n",
      "2    0.3\n",
      "3    0.4\n",
      "dtype: float64\n"
     ]
    }
   ],
   "source": [
    "print s"
   ]
  },
  {
   "cell_type": "code",
   "execution_count": 8,
   "metadata": {},
   "outputs": [
    {
     "data": {
      "text/plain": [
       "Int64Index([0, 1, 2, 3], dtype='int64')"
      ]
     },
     "execution_count": 8,
     "metadata": {},
     "output_type": "execute_result"
    }
   ],
   "source": [
    "s.index"
   ]
  },
  {
   "cell_type": "code",
   "execution_count": 9,
   "metadata": {},
   "outputs": [
    {
     "name": "stdout",
     "output_type": "stream",
     "text": [
      "[ 0.1  0.2  0.3  0.4]\n"
     ]
    }
   ],
   "source": [
    "print s.values"
   ]
  },
  {
   "cell_type": "code",
   "execution_count": 10,
   "metadata": {},
   "outputs": [
    {
     "name": "stdout",
     "output_type": "stream",
     "text": [
      "a    0\n",
      "b    1\n",
      "c    2\n",
      "d    3\n",
      "dtype: int64\n"
     ]
    }
   ],
   "source": [
    "# Index can be some other type\n",
    "s = pd.Series(np.arange(4), index = ['a', 'b', 'c', 'd'])\n",
    "print s"
   ]
  },
  {
   "cell_type": "code",
   "execution_count": 11,
   "metadata": {},
   "outputs": [
    {
     "name": "stdout",
     "output_type": "stream",
     "text": [
      "3\n"
     ]
    }
   ],
   "source": [
    "print s['d']"
   ]
  },
  {
   "cell_type": "code",
   "execution_count": 13,
   "metadata": {},
   "outputs": [
    {
     "name": "stdout",
     "output_type": "stream",
     "text": [
      "a    1\n",
      "b    2\n",
      "c    3\n",
      "d    4\n",
      "dtype: int64\n"
     ]
    }
   ],
   "source": [
    "# Can be initialized with a dict as well\n",
    "s = pd.Series({'a':1, 'b':2, 'c':3, 'd':4})\n",
    "print s"
   ]
  },
  {
   "cell_type": "code",
   "execution_count": 14,
   "metadata": {},
   "outputs": [
    {
     "name": "stdout",
     "output_type": "stream",
     "text": [
      "a    100\n",
      "b    200\n",
      "c    300\n",
      "d    400\n",
      "dtype: int64\n"
     ]
    }
   ],
   "source": [
    "# Elementwise operations\n",
    "print s*100"
   ]
  },
  {
   "cell_type": "code",
   "execution_count": 18,
   "metadata": {},
   "outputs": [
    {
     "data": {
      "text/plain": [
       "b    2\n",
       "c    3\n",
       "dtype: int64"
      ]
     },
     "execution_count": 18,
     "metadata": {},
     "output_type": "execute_result"
    }
   ],
   "source": [
    "# Slicing, NOTE this includes 'c', which it wouldn't when slicing a python\n",
    "# list\n",
    "s['b':'c']"
   ]
  },
  {
   "cell_type": "code",
   "execution_count": 20,
   "metadata": {},
   "outputs": [
    {
     "name": "stdout",
     "output_type": "stream",
     "text": [
      "b    2\n",
      "c    3\n",
      "dtype: int64\n",
      "b    2\n",
      "d    4\n",
      "dtype: int64\n"
     ]
    }
   ],
   "source": [
    "# List indexing\n",
    "print s[['b','c']]\n",
    "print s[['b','d']]"
   ]
  },
  {
   "cell_type": "code",
   "execution_count": 26,
   "metadata": {},
   "outputs": [
    {
     "name": "stdout",
     "output_type": "stream",
     "text": [
      "a    False\n",
      "b    False\n",
      "c     True\n",
      "d     True\n",
      "dtype: bool\n",
      "c    3\n",
      "d    4\n",
      "dtype: int64\n"
     ]
    }
   ],
   "source": [
    "# bool indexing\n",
    "print s>2\n",
    "print s[s>2]"
   ]
  },
  {
   "cell_type": "code",
   "execution_count": 22,
   "metadata": {},
   "outputs": [
    {
     "data": {
      "text/plain": [
       "2.5"
      ]
     },
     "execution_count": 22,
     "metadata": {},
     "output_type": "execute_result"
    }
   ],
   "source": [
    "s.mean()"
   ]
  },
  {
   "cell_type": "code",
   "execution_count": 23,
   "metadata": {},
   "outputs": [
    {
     "data": {
      "text/plain": [
       "a   NaN\n",
       "b     4\n",
       "c   NaN\n",
       "dtype: float64"
      ]
     },
     "execution_count": 23,
     "metadata": {},
     "output_type": "execute_result"
    }
   ],
   "source": [
    "# I guess 'a' becomes NaN because it gets some number from the first term\n",
    "# but not from the other, so it is 1 + NaN = NaN\n",
    "s['a':'b'] + s['b':'c']"
   ]
  },
  {
   "cell_type": "code",
   "execution_count": 24,
   "metadata": {},
   "outputs": [],
   "source": [
    "data = {'country': ['Belgium', 'France', 'Germany', 'Netherlands', 'United Kingdom'],\n",
    "...        'population': [11.3, 64.3, 81.3, 16.9, 64.9],\n",
    "...        'area': [30510, 671308, 357050, 41526, 244820],\n",
    "...        'capital': ['Brussels', 'Paris', 'Berlin', 'Amsterdam', 'London']}"
   ]
  },
  {
   "cell_type": "code",
   "execution_count": 25,
   "metadata": {},
   "outputs": [
    {
     "data": {
      "text/plain": [
       "{'area': [30510, 671308, 357050, 41526, 244820],\n",
       " 'capital': ['Brussels', 'Paris', 'Berlin', 'Amsterdam', 'London'],\n",
       " 'country': ['Belgium', 'France', 'Germany', 'Netherlands', 'United Kingdom'],\n",
       " 'population': [11.3, 64.3, 81.3, 16.9, 64.9]}"
      ]
     },
     "execution_count": 25,
     "metadata": {},
     "output_type": "execute_result"
    }
   ],
   "source": [
    "data"
   ]
  },
  {
   "cell_type": "code",
   "execution_count": 28,
   "metadata": {},
   "outputs": [
    {
     "name": "stdout",
     "output_type": "stream",
     "text": [
      "     area    capital         country  population\n",
      "0   30510   Brussels         Belgium        11.3\n",
      "1  671308      Paris          France        64.3\n",
      "2  357050     Berlin         Germany        81.3\n",
      "3   41526  Amsterdam     Netherlands        16.9\n",
      "4  244820     London  United Kingdom        64.9\n"
     ]
    }
   ],
   "source": [
    "countries = pd.DataFrame(data)\n",
    "print countries"
   ]
  },
  {
   "cell_type": "code",
   "execution_count": 29,
   "metadata": {},
   "outputs": [
    {
     "data": {
      "text/plain": [
       "Int64Index([0, 1, 2, 3, 4], dtype='int64')"
      ]
     },
     "execution_count": 29,
     "metadata": {},
     "output_type": "execute_result"
    }
   ],
   "source": [
    "countries.index"
   ]
  },
  {
   "cell_type": "code",
   "execution_count": 30,
   "metadata": {},
   "outputs": [
    {
     "data": {
      "text/plain": [
       "Index([u'area', u'capital', u'country', u'population'], dtype='object')"
      ]
     },
     "execution_count": 30,
     "metadata": {},
     "output_type": "execute_result"
    }
   ],
   "source": [
    "countries.columns"
   ]
  },
  {
   "cell_type": "code",
   "execution_count": 31,
   "metadata": {},
   "outputs": [
    {
     "data": {
      "text/plain": [
       "area            int64\n",
       "capital        object\n",
       "country        object\n",
       "population    float64\n",
       "dtype: object"
      ]
     },
     "execution_count": 31,
     "metadata": {},
     "output_type": "execute_result"
    }
   ],
   "source": [
    "countries.dtypes"
   ]
  },
  {
   "cell_type": "code",
   "execution_count": 32,
   "metadata": {},
   "outputs": [
    {
     "data": {
      "text/plain": [
       "array([[30510, 'Brussels', 'Belgium', 11.3],\n",
       "       [671308, 'Paris', 'France', 64.3],\n",
       "       [357050, 'Berlin', 'Germany', 81.3],\n",
       "       [41526, 'Amsterdam', 'Netherlands', 16.9],\n",
       "       [244820, 'London', 'United Kingdom', 64.9]], dtype=object)"
      ]
     },
     "execution_count": 32,
     "metadata": {},
     "output_type": "execute_result"
    }
   ],
   "source": [
    "countries.values"
   ]
  },
  {
   "cell_type": "code",
   "execution_count": 33,
   "metadata": {},
   "outputs": [
    {
     "name": "stdout",
     "output_type": "stream",
     "text": [
      "<class 'pandas.core.frame.DataFrame'>\n",
      "Int64Index: 5 entries, 0 to 4\n",
      "Data columns (total 4 columns):\n",
      "area          5 non-null int64\n",
      "capital       5 non-null object\n",
      "country       5 non-null object\n",
      "population    5 non-null float64\n",
      "dtypes: float64(1), int64(1), object(2)\n",
      "memory usage: 200.0+ bytes\n"
     ]
    }
   ],
   "source": [
    "countries.info()"
   ]
  },
  {
   "cell_type": "code",
   "execution_count": 34,
   "metadata": {},
   "outputs": [
    {
     "name": "stdout",
     "output_type": "stream",
     "text": [
      "     area    capital         country  population\n",
      "0   30510   Brussels         Belgium        11.3\n",
      "1  671308      Paris          France        64.3\n",
      "2  357050     Berlin         Germany        81.3\n",
      "3   41526  Amsterdam     Netherlands        16.9\n",
      "4  244820     London  United Kingdom        64.9\n"
     ]
    }
   ],
   "source": [
    "print countries"
   ]
  },
  {
   "cell_type": "code",
   "execution_count": 35,
   "metadata": {},
   "outputs": [],
   "source": [
    "countries = countries.set_index('country')"
   ]
  },
  {
   "cell_type": "code",
   "execution_count": 36,
   "metadata": {},
   "outputs": [
    {
     "name": "stdout",
     "output_type": "stream",
     "text": [
      "                  area    capital  population\n",
      "country                                      \n",
      "Belgium          30510   Brussels        11.3\n",
      "France          671308      Paris        64.3\n",
      "Germany         357050     Berlin        81.3\n",
      "Netherlands      41526  Amsterdam        16.9\n",
      "United Kingdom  244820     London        64.9\n"
     ]
    }
   ],
   "source": [
    "print countries"
   ]
  },
  {
   "cell_type": "code",
   "execution_count": 37,
   "metadata": {},
   "outputs": [
    {
     "name": "stdout",
     "output_type": "stream",
     "text": [
      "country\n",
      "Belgium            30510\n",
      "France            671308\n",
      "Germany           357050\n",
      "Netherlands        41526\n",
      "United Kingdom    244820\n",
      "Name: area, dtype: int64\n"
     ]
    }
   ],
   "source": [
    "print countries['area']"
   ]
  },
  {
   "cell_type": "code",
   "execution_count": 38,
   "metadata": {},
   "outputs": [
    {
     "name": "stdout",
     "output_type": "stream",
     "text": [
      "Paris\n"
     ]
    }
   ],
   "source": [
    "print countries['capital']['France']"
   ]
  },
  {
   "cell_type": "code",
   "execution_count": 40,
   "metadata": {},
   "outputs": [
    {
     "name": "stdout",
     "output_type": "stream",
     "text": [
      "country\n",
      "Belgium           370.370370\n",
      "France             95.783158\n",
      "Germany           227.699202\n",
      "Netherlands       406.973944\n",
      "United Kingdom    265.092721\n",
      "dtype: float64\n"
     ]
    }
   ],
   "source": [
    "# Population is in millions\n",
    "# Area is in km? maybe\n",
    "print countries['population']/countries['area']*10**6"
   ]
  },
  {
   "cell_type": "code",
   "execution_count": 41,
   "metadata": {},
   "outputs": [],
   "source": [
    "# Add a new column\n",
    "countries['density'] = countries['population']/countries['area']*10**6"
   ]
  },
  {
   "cell_type": "code",
   "execution_count": 42,
   "metadata": {},
   "outputs": [
    {
     "name": "stdout",
     "output_type": "stream",
     "text": [
      "                  area    capital  population     density\n",
      "country                                                  \n",
      "Belgium          30510   Brussels        11.3  370.370370\n",
      "France          671308      Paris        64.3   95.783158\n",
      "Germany         357050     Berlin        81.3  227.699202\n",
      "Netherlands      41526  Amsterdam        16.9  406.973944\n",
      "United Kingdom  244820     London        64.9  265.092721\n"
     ]
    }
   ],
   "source": [
    "print countries"
   ]
  },
  {
   "cell_type": "code",
   "execution_count": 43,
   "metadata": {},
   "outputs": [
    {
     "name": "stdout",
     "output_type": "stream",
     "text": [
      "              area    capital  population     density\n",
      "country                                              \n",
      "Belgium      30510   Brussels        11.3  370.370370\n",
      "Netherlands  41526  Amsterdam        16.9  406.973944\n"
     ]
    }
   ],
   "source": [
    "# Can filter data\n",
    "print countries[countries['density'] > 300]"
   ]
  },
  {
   "cell_type": "code",
   "execution_count": 45,
   "metadata": {},
   "outputs": [
    {
     "name": "stdout",
     "output_type": "stream",
     "text": [
      "                  area    capital  population     density\n",
      "country                                                  \n",
      "Netherlands      41526  Amsterdam        16.9  406.973944\n",
      "Belgium          30510   Brussels        11.3  370.370370\n",
      "United Kingdom  244820     London        64.9  265.092721\n",
      "Germany         357050     Berlin        81.3  227.699202\n",
      "France          671308      Paris        64.3   95.783158\n"
     ]
    }
   ],
   "source": [
    "# We can sort by one of the types of data of the countries\n",
    "print countries.sort_values('density',ascending = False)"
   ]
  },
  {
   "cell_type": "code",
   "execution_count": 46,
   "metadata": {},
   "outputs": [
    {
     "name": "stdout",
     "output_type": "stream",
     "text": [
      "                area  population     density\n",
      "count       5.000000    5.000000    5.000000\n",
      "mean   269042.800000   47.740000  273.183879\n",
      "std    264012.827994   31.519645  123.440607\n",
      "min     30510.000000   11.300000   95.783158\n",
      "25%     41526.000000   16.900000  227.699202\n",
      "50%    244820.000000   64.300000  265.092721\n",
      "75%    357050.000000   64.900000  370.370370\n",
      "max    671308.000000   81.300000  406.973944\n"
     ]
    }
   ],
   "source": [
    "# We can get statistics on it\n",
    "print countries.describe()"
   ]
  },
  {
   "cell_type": "code",
   "execution_count": 50,
   "metadata": {},
   "outputs": [
    {
     "data": {
      "text/plain": [
       "<matplotlib.axes._subplots.AxesSubplot at 0x7fa8193e8f50>"
      ]
     },
     "execution_count": 50,
     "metadata": {},
     "output_type": "execute_result"
    },
    {
     "data": {
      "image/png": "[encoded data removed]",
      "text/plain": [
       "<matplotlib.figure.Figure at 0x7fa81939bf10>"
      ]
     },
     "metadata": {},
     "output_type": "display_data"
    }
   ],
   "source": [
    "countries.plot()"
   ]
  },
  {
   "cell_type": "code",
   "execution_count": 51,
   "metadata": {},
   "outputs": [
    {
     "data": {
      "text/plain": [
       "<matplotlib.axes._subplots.AxesSubplot at 0x7fa8193380d0>"
      ]
     },
     "execution_count": 51,
     "metadata": {},
     "output_type": "execute_result"
    },
    {
     "data": {
      "image/png": "[encoded data removed]",
      "text/plain": [
       "<matplotlib.figure.Figure at 0x7fa823d84590>"
      ]
     },
     "metadata": {},
     "output_type": "display_data"
    }
   ],
   "source": [
    "countries.plot(kind = 'bar')"
   ]
  },
  {
   "cell_type": "code",
   "execution_count": null,
   "metadata": {},
   "outputs": [],
   "source": []
  }
 ],
 "metadata": {
  "kernelspec": {
   "display_name": "Python 2",
   "language": "python",
   "name": "python2"
  },
  "language_info": {
   "codemirror_mode": {
    "name": "ipython",
    "version": 2
   },
   "file_extension": ".py",
   "mimetype": "text/x-python",
   "name": "python",
   "nbconvert_exporter": "python",
   "pygments_lexer": "ipython2",
   "version": "2.7.12"
  }
 },
 "nbformat": 4,
 "nbformat_minor": 2
}
