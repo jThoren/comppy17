{
 "cells": [
  {
   "cell_type": "code",
   "execution_count": 1,
   "metadata": {},
   "outputs": [
    {
     "name": "stderr",
     "output_type": "stream",
     "text": [
      "/usr/lib/python2.7/dist-packages/matplotlib/font_manager.py:273: UserWarning: Matplotlib is building the font cache using fc-list. This may take a moment.\n",
      "  warnings.warn('Matplotlib is building the font cache using fc-list. This may take a moment.')\n"
     ]
    }
   ],
   "source": [
    "# Import matplotlib and numpy\n",
    "import matplotlib.pyplot as plt\n",
    "import numpy as np"
   ]
  },
  {
   "cell_type": "code",
   "execution_count": 19,
   "metadata": {},
   "outputs": [],
   "source": [
    "%matplotlib inline"
   ]
  },
  {
   "cell_type": "code",
   "execution_count": 20,
   "metadata": {},
   "outputs": [],
   "source": [
    "# Create a file with data\n",
    "with open('sin.dat','w') as f:\n",
    "    for i in range(20):\n",
    "        f.write(str(i/np.pi)+' '+str(np.sin(i/np.pi))+'\\n')"
   ]
  },
  {
   "cell_type": "code",
   "execution_count": 21,
   "metadata": {},
   "outputs": [
    {
     "name": "stdout",
     "output_type": "stream",
     "text": [
      "0.0 0.0\n",
      "\n",
      "0.318309886184 0.312961796208\n",
      "\n",
      "0.636619772368 0.594480768525\n",
      "\n",
      "0.954929658551 0.816273108589\n",
      "\n",
      "1.27323954474 0.956055657328\n",
      "\n",
      "1.59154943092 0.999784662063\n",
      "\n",
      "1.9098593171 0.943066732257\n",
      "\n",
      "2.22816920329 0.791600237166\n",
      "\n",
      "2.54647908947 0.560602798839\n",
      "\n",
      "2.86478897565 0.273282399403\n",
      "\n",
      "3.18309886184 -0.0414942916986\n",
      "\n",
      "3.50140874802 -0.352102110682\n",
      "\n",
      "3.81971863421 -0.62733473438\n",
      "\n",
      "4.13802852039 -0.839539934882\n",
      "\n",
      "4.45633840657 -0.967397759309\n",
      "\n",
      "4.77464829276 -0.998062514976\n",
      "\n",
      "5.09295817894 -0.928453357755\n",
      "\n",
      "5.41126806512 -0.765563820076\n",
      "\n",
      "5.72957795131 -0.525759180736\n",
      "\n",
      "6.04788783749 -0.233132268743\n",
      "\n"
     ]
    }
   ],
   "source": [
    "# Check that we did it correctly\n",
    "with open('sin.dat','r') as f:\n",
    "    for line in f:\n",
    "        print line"
   ]
  },
  {
   "cell_type": "code",
   "execution_count": 22,
   "metadata": {},
   "outputs": [],
   "source": [
    "data = np.loadtxt('sin.dat')"
   ]
  },
  {
   "cell_type": "code",
   "execution_count": 23,
   "metadata": {},
   "outputs": [
    {
     "data": {
      "text/plain": [
       "[<matplotlib.lines.Line2D at 0x7fc19d66b1d0>]"
      ]
     },
     "execution_count": 23,
     "metadata": {},
     "output_type": "execute_result"
    },
    {
     "data": {
      "image/png": "[encoded data removed]",
      "text/plain": [
       "<matplotlib.figure.Figure at 0x7fc19d7cc950>"
      ]
     },
     "metadata": {},
     "output_type": "display_data"
    }
   ],
   "source": [
    "plt.plot(data[:,0],data[:,1])"
   ]
  },
  {
   "cell_type": "code",
   "execution_count": 35,
   "metadata": {},
   "outputs": [
    {
     "data": {
      "text/plain": [
       "[<matplotlib.lines.Line2D at 0x7fc19c119850>]"
      ]
     },
     "execution_count": 35,
     "metadata": {},
     "output_type": "execute_result"
    },
    {
     "data": {
      "image/png": "[encoded data removed]",
      "text/plain": [
       "<matplotlib.figure.Figure at 0x7fc1976d1fd0>"
      ]
     },
     "metadata": {},
     "output_type": "display_data"
    }
   ],
   "source": [
    "# Can use tab completion to get suggestions\n",
    "x = data[:,0]\n",
    "y = data[:,1]\n",
    "plt.plot(x,y,linewidth = 2,color = \"red\",linestyle = 'dotted')\n",
    "plt.plot(y,x,linewidth = 2,color = \"red\",linestyle = '--')"
   ]
  },
  {
   "cell_type": "code",
   "execution_count": null,
   "metadata": {},
   "outputs": [],
   "source": []
  }
 ],
 "metadata": {
  "kernelspec": {
   "display_name": "Python 2",
   "language": "python",
   "name": "python2"
  },
  "language_info": {
   "codemirror_mode": {
    "name": "ipython",
    "version": 2
   },
   "file_extension": ".py",
   "mimetype": "text/x-python",
   "name": "python",
   "nbconvert_exporter": "python",
   "pygments_lexer": "ipython2",
   "version": "2.7.12"
  }
 },
 "nbformat": 4,
 "nbformat_minor": 2
}
