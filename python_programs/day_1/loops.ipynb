{
 "cells": [
  {
   "cell_type": "code",
   "execution_count": 1,
   "metadata": {},
   "outputs": [],
   "source": [
    "# A dictionary\n",
    "d = {\"a\":1,\"b\":73,\"c\":-13}"
   ]
  },
  {
   "cell_type": "code",
   "execution_count": 4,
   "metadata": {},
   "outputs": [
    {
     "name": "stdout",
     "output_type": "stream",
     "text": [
      "('a', 1)\n",
      "('c', -13)\n",
      "('b', 73)\n"
     ]
    }
   ],
   "source": [
    "# We can loop over the dictionary, remember that a dictionary\n",
    "# isn't ordered\n",
    "for x in d:\n",
    "    print(x,d[x])"
   ]
  },
  {
   "cell_type": "code",
   "execution_count": 5,
   "metadata": {},
   "outputs": [
    {
     "name": "stdout",
     "output_type": "stream",
     "text": [
      "('a', 1)\n",
      "('c', -13)\n",
      "('b', 73)\n"
     ]
    }
   ],
   "source": [
    "# Can use the function items here\n",
    "for x in d.items():\n",
    "    print(x)"
   ]
  },
  {
   "cell_type": "code",
   "execution_count": 6,
   "metadata": {},
   "outputs": [
    {
     "name": "stdout",
     "output_type": "stream",
     "text": [
      "('a', 1)\n",
      "('c', -13)\n",
      "('b', 73)\n"
     ]
    }
   ],
   "source": [
    "# Can have two arguments in the loop\n",
    "for x,y in d.items():\n",
    "    print(x,y)"
   ]
  },
  {
   "cell_type": "code",
   "execution_count": 10,
   "metadata": {},
   "outputs": [
    {
     "name": "stdout",
     "output_type": "stream",
     "text": [
      "1\n",
      "a\n",
      "a\n",
      "1\n"
     ]
    }
   ],
   "source": [
    "# More on the unpacking, tuple unpacking\n",
    "x, y = (1,\"a\")\n",
    "print(x)\n",
    "print(y)\n",
    "# We can also use this to change two varaibles\n",
    "x, y = y, x\n",
    "print(x)\n",
    "print(y)"
   ]
  },
  {
   "cell_type": "code",
   "execution_count": null,
   "metadata": {},
   "outputs": [],
   "source": []
  }
 ],
 "metadata": {
  "kernelspec": {
   "display_name": "Python 2",
   "language": "python",
   "name": "python2"
  },
  "language_info": {
   "codemirror_mode": {
    "name": "ipython",
    "version": 2
   },
   "file_extension": ".py",
   "mimetype": "text/x-python",
   "name": "python",
   "nbconvert_exporter": "python",
   "pygments_lexer": "ipython2",
   "version": "2.7.12"
  }
 },
 "nbformat": 4,
 "nbformat_minor": 2
}
