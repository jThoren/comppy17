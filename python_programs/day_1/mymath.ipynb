{
 "cells": [
  {
   "cell_type": "code",
   "execution_count": 1,
   "metadata": {},
   "outputs": [],
   "source": [
    "# The default return value of a function is None\n",
    "None"
   ]
  },
  {
   "cell_type": "code",
   "execution_count": 2,
   "metadata": {},
   "outputs": [
    {
     "data": {
      "text/plain": [
       "NoneType"
      ]
     },
     "execution_count": 2,
     "metadata": {},
     "output_type": "execute_result"
    }
   ],
   "source": [
    "type(None)"
   ]
  },
  {
   "cell_type": "code",
   "execution_count": 4,
   "metadata": {},
   "outputs": [],
   "source": [
    "def mymax1(x,y):\n",
    "    return"
   ]
  },
  {
   "cell_type": "code",
   "execution_count": 6,
   "metadata": {},
   "outputs": [
    {
     "name": "stdout",
     "output_type": "stream",
     "text": [
      "None\n"
     ]
    }
   ],
   "source": [
    "print(mymax1(1,2))"
   ]
  },
  {
   "cell_type": "code",
   "execution_count": 10,
   "metadata": {},
   "outputs": [],
   "source": [
    "# Defines a function, called mymax, taking the arguments x and y\n",
    "def mymax(x, y):\n",
    "    # We need the indentation here in python, it isn't\n",
    "    # purely for readability\n",
    "    if x > y:\n",
    "        return x\n",
    "    else:\n",
    "        return y"
   ]
  },
  {
   "cell_type": "code",
   "execution_count": 8,
   "metadata": {},
   "outputs": [
    {
     "data": {
      "text/plain": [
       "2"
      ]
     },
     "execution_count": 8,
     "metadata": {},
     "output_type": "execute_result"
    }
   ],
   "source": [
    "mymax(2,1)"
   ]
  },
  {
   "cell_type": "code",
   "execution_count": 24,
   "metadata": {},
   "outputs": [
    {
     "name": "stdout",
     "output_type": "stream",
     "text": [
      "('The maximum of ', 1, ' and ', 2, ' is ', 2)\n",
      "The maximum of 1 and 2 is 2\n",
      "The maximum of 1 and 2 is 2\n",
      "The maximum of 1 and 2 is\n"
     ]
    }
   ],
   "source": [
    "i=1\n",
    "j=2\n",
    "# The following looks like a tuple, at least in python 2.7\n",
    "print(\"The maximum of \",i,\" and \",j,\" is \", mymax(1,2))\n",
    "\n",
    "# C-like syntax of getting the output as a single string\n",
    "print(\"The maximum of %d and %d is %d\" % (i, j, mymax(i,j)) )\n",
    "\n",
    "# Another way (python-like?)\n",
    "print(\"The maximum of {} and {} is {}\".format(i,j,mymax(i,j)))\n",
    "\n",
    "# What if the number of args and brackets doesn't match?\n",
    "# The following is fine\n",
    "print(\"The maximum of {} and {} is\".format(i,j,mymax(i,j)))\n",
    "# The following isn't, as it tries to access the 4th element of the tuple\n",
    "#print(\"The maximum of {} and {} is {} and not {}\".format(i,j,mymax(i,j)))\n",
    "\n",
    "# The following requires python 3.6\n",
    "#print(f\"The maximum of {i} and {j} is {mymax(i,j)}\")"
   ]
  },
  {
   "cell_type": "code",
   "execution_count": 13,
   "metadata": {},
   "outputs": [
    {
     "data": {
      "text/plain": [
       "bool"
      ]
     },
     "execution_count": 13,
     "metadata": {},
     "output_type": "execute_result"
    }
   ],
   "source": [
    "# Booleans are also a data type\n",
    "b = True\n",
    "type(b)"
   ]
  },
  {
   "cell_type": "code",
   "execution_count": 19,
   "metadata": {},
   "outputs": [
    {
     "name": "stdout",
     "output_type": "stream",
     "text": [
      "True\n",
      "False\n",
      "True\n",
      "True\n",
      "False\n",
      "False\n"
     ]
    }
   ],
   "source": [
    "# Can convert other types to boolean\n",
    "print(bool(1))\n",
    "print(bool(0))\n",
    "print(bool(\"1\"))\n",
    "print(bool(\"0\"))\n",
    "print(bool(\"\"))\n",
    "print(bool([]))"
   ]
  },
  {
   "cell_type": "code",
   "execution_count": 23,
   "metadata": {},
   "outputs": [
    {
     "name": "stdout",
     "output_type": "stream",
     "text": [
      "a is not empty\n",
      "b is empty\n"
     ]
    }
   ],
   "source": [
    "# So we can use an if block to check if a variable is empty or not\n",
    "a = \"a string\"\n",
    "b = \"\"\n",
    "if a:\n",
    "    print(\"a is not empty\")\n",
    "else:\n",
    "    print(\"a is empty\")\n",
    "if b:\n",
    "    print(\"b is not empty\")\n",
    "else:\n",
    "    print(\"b is empty\")"
   ]
  },
  {
   "cell_type": "code",
   "execution_count": 31,
   "metadata": {},
   "outputs": [],
   "source": [
    "# Extending the max function to work with lists\n",
    "# Added try/except block to catch the case where \n",
    "# the list is empty\n",
    "def listmax(l):\n",
    "    try:\n",
    "        lmax = l[0]\n",
    "    except IndexError:\n",
    "        return None\n",
    "    for i in l:\n",
    "        if i > lmax:\n",
    "            lmax = i\n",
    "    return lmax"
   ]
  },
  {
   "cell_type": "code",
   "execution_count": 34,
   "metadata": {},
   "outputs": [
    {
     "name": "stdout",
     "output_type": "stream",
     "text": [
      "3\n",
      "None\n"
     ]
    }
   ],
   "source": [
    "print(listmax([1,2,3]))\n",
    "print(listmax([]))"
   ]
  },
  {
   "cell_type": "code",
   "execution_count": 41,
   "metadata": {},
   "outputs": [],
   "source": [
    "lmax = 0\n",
    "def listmaxtest(l):\n",
    "    for i in l:\n",
    "        if i > lmax:\n",
    "            lmax = i\n",
    "    return lmax"
   ]
  },
  {
   "cell_type": "code",
   "execution_count": 40,
   "metadata": {},
   "outputs": [
    {
     "ename": "UnboundLocalError",
     "evalue": "local variable 'lmax' referenced before assignment",
     "output_type": "error",
     "traceback": [
      "\u001b[0;31m---------------------------------------------------------------------------\u001b[0m",
      "\u001b[0;31mUnboundLocalError\u001b[0m                         Traceback (most recent call last)",
      "\u001b[0;32m<ipython-input-40-e33b36e0ed6b>\u001b[0m in \u001b[0;36m<module>\u001b[0;34m()\u001b[0m\n\u001b[0;32m----> 1\u001b[0;31m \u001b[0mlistmaxtest\u001b[0m\u001b[0;34m(\u001b[0m\u001b[0;34m[\u001b[0m\u001b[0;36m1\u001b[0m\u001b[0;34m,\u001b[0m\u001b[0;36m2\u001b[0m\u001b[0;34m,\u001b[0m\u001b[0;36m3\u001b[0m\u001b[0;34m]\u001b[0m\u001b[0;34m)\u001b[0m\u001b[0;34m\u001b[0m\u001b[0m\n\u001b[0m",
      "\u001b[0;32m<ipython-input-37-a84ff918499d>\u001b[0m in \u001b[0;36mlistmaxtest\u001b[0;34m(l)\u001b[0m\n\u001b[1;32m      2\u001b[0m \u001b[0;32mdef\u001b[0m \u001b[0mlistmaxtest\u001b[0m\u001b[0;34m(\u001b[0m\u001b[0ml\u001b[0m\u001b[0;34m)\u001b[0m\u001b[0;34m:\u001b[0m\u001b[0;34m\u001b[0m\u001b[0m\n\u001b[1;32m      3\u001b[0m     \u001b[0;32mfor\u001b[0m \u001b[0mi\u001b[0m \u001b[0;32min\u001b[0m \u001b[0ml\u001b[0m\u001b[0;34m:\u001b[0m\u001b[0;34m\u001b[0m\u001b[0m\n\u001b[0;32m----> 4\u001b[0;31m         \u001b[0;32mif\u001b[0m \u001b[0mi\u001b[0m \u001b[0;34m>\u001b[0m \u001b[0mlmax\u001b[0m\u001b[0;34m:\u001b[0m\u001b[0;34m\u001b[0m\u001b[0m\n\u001b[0m\u001b[1;32m      5\u001b[0m             \u001b[0mlmax\u001b[0m \u001b[0;34m=\u001b[0m \u001b[0mi\u001b[0m\u001b[0;34m\u001b[0m\u001b[0m\n\u001b[1;32m      6\u001b[0m     \u001b[0;32mreturn\u001b[0m \u001b[0mlmax\u001b[0m\u001b[0;34m\u001b[0m\u001b[0m\n",
      "\u001b[0;31mUnboundLocalError\u001b[0m: local variable 'lmax' referenced before assignment"
     ]
    }
   ],
   "source": [
    "listmaxtest([1,2,3])"
   ]
  },
  {
   "cell_type": "code",
   "execution_count": 42,
   "metadata": {},
   "outputs": [
    {
     "name": "stdout",
     "output_type": "stream",
     "text": [
      "('The maximum of ', 1, ' and ', 2, ' is ', 2)\n",
      "The maximum of 1 and 2 is 2\n",
      "The maximum of 1 and 2 is 2\n",
      "The maximum of 1 and 2 is\n",
      "3\n"
     ]
    }
   ],
   "source": [
    "# If we've defined some functions in a file we can get them by using \n",
    "# import\n",
    "import mymath"
   ]
  },
  {
   "cell_type": "code",
   "execution_count": 45,
   "metadata": {},
   "outputs": [
    {
     "name": "stdout",
     "output_type": "stream",
     "text": [
      "3\n",
      "3\n"
     ]
    }
   ],
   "source": [
    "# Using function defined in this notebook and the one defined in\n",
    "# mymath\n",
    "print(listmax([1,2,3]))\n",
    "print(mymath.listmax([1,2,3]))"
   ]
  },
  {
   "cell_type": "code",
   "execution_count": 47,
   "metadata": {},
   "outputs": [
    {
     "name": "stdout",
     "output_type": "stream",
     "text": [
      "Yes\n"
     ]
    }
   ],
   "source": [
    "# We can add an if block to make some parts only run if it's the main\n",
    "# program and not if it is imported\n",
    "if __name__ == \"__main__\":\n",
    "    print(\"Yes\")"
   ]
  },
  {
   "cell_type": "code",
   "execution_count": null,
   "metadata": {},
   "outputs": [],
   "source": []
  }
 ],
 "metadata": {
  "kernelspec": {
   "display_name": "Python 2",
   "language": "python",
   "name": "python2"
  },
  "language_info": {
   "codemirror_mode": {
    "name": "ipython",
    "version": 2
   },
   "file_extension": ".py",
   "mimetype": "text/x-python",
   "name": "python",
   "nbconvert_exporter": "python",
   "pygments_lexer": "ipython2",
   "version": "2.7.12"
  }
 },
 "nbformat": 4,
 "nbformat_minor": 2
}
