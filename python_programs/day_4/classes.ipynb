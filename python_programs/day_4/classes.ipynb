{
 "cells": [
  {
   "cell_type": "code",
   "execution_count": 23,
   "metadata": {},
   "outputs": [],
   "source": [
    "# Convention: class names are camelcase\n",
    "\n",
    "# Creating a fruit class, that has an initialization method\n",
    "# that sets the name member of the class\n",
    "# And another method that prints that it tastes good\n",
    "class Fruit(object):\n",
    "    \"\"\"A fruit object class\"\"\"\n",
    "    # Reserved name for initialization\n",
    "    def __init__(self, name):\n",
    "        print(\"entering Fruit.__init__\")\n",
    "        self.name = name\n",
    "    # Reserved name for print\n",
    "    def __str__(self):\n",
    "        print(\"entering Fruit.__str__\")\n",
    "        return \"%s tastes sweet!\" % self.name"
   ]
  },
  {
   "cell_type": "code",
   "execution_count": 24,
   "metadata": {},
   "outputs": [],
   "source": [
    "# We can have a sub class\n",
    "# in this case it will inherit the initialization of the Fruit class\n",
    "# but we redefined the __str__ function\n",
    "class Citrus(Fruit):\n",
    "    def __str__(self):\n",
    "        print(\"entering Citrus.__str__\")\n",
    "        return \"%s tastes sour\" % self.name"
   ]
  },
  {
   "cell_type": "code",
   "execution_count": 25,
   "metadata": {},
   "outputs": [],
   "source": [
    "# We can also have a more general class \n",
    "class FruitWithTaste(Fruit):\n",
    "    \"\"\" A fruit object class with taste \"\"\"\n",
    "    \n",
    "    def __init__(self,name,taste=\"sweet\"):\n",
    "        print(\"entering FruitWithTaste.__init__\")\n",
    "        Fruit.__init__(self,name)\n",
    "        self.taste = taste\n",
    "    \n",
    "    def __str__(self):\n",
    "        print(\"entering FruitWithTaste.__str__\")\n",
    "        return \"%s tastes %s!\" % (self.name,self.taste)\n",
    "    \n",
    "    # A function that changes a member variable of \n",
    "    # the class\n",
    "    def rot(self):\n",
    "        self.taste = \"rotten\""
   ]
  },
  {
   "cell_type": "code",
   "execution_count": 26,
   "metadata": {},
   "outputs": [
    {
     "name": "stdout",
     "output_type": "stream",
     "text": [
      "entering Fruit.__init__\n",
      "entering Fruit.__str__\n",
      "Banana tastes sweet!\n",
      "entering Fruit.__init__\n",
      "entering Citrus.__str__\n",
      "Lemon tastes sour\n",
      "entering FruitWithTaste.__init__\n",
      "entering Fruit.__init__\n",
      "entering FruitWithTaste.__str__\n",
      "Apple tastes sweet!\n",
      "entering FruitWithTaste.__init__\n",
      "entering Fruit.__init__\n",
      "entering FruitWithTaste.__str__\n",
      "Green apple tastes sour!\n",
      "entering FruitWithTaste.__str__\n",
      "Green apple tastes rotten!\n"
     ]
    }
   ],
   "source": [
    "# Create an instance of the Fruit class, named fruit\n",
    "fruit = Fruit(\"Banana\")\n",
    "print(fruit)\n",
    "lemon = Citrus(\"Lemon\")\n",
    "print lemon\n",
    "apple = FruitWithTaste(\"Apple\")\n",
    "print apple\n",
    "greenapple = FruitWithTaste(\"Green apple\",\"sour\")\n",
    "print greenapple\n",
    "greenapple.rot()\n",
    "print greenapple"
   ]
  },
  {
   "cell_type": "code",
   "execution_count": 11,
   "metadata": {},
   "outputs": [],
   "source": [
    "class MyComplex:\n",
    "    # Pass doesn't do anything, can be used as placeholder\n",
    "    # leaving this empty is a syntax error\n",
    "    pass"
   ]
  },
  {
   "cell_type": "code",
   "execution_count": 27,
   "metadata": {},
   "outputs": [
    {
     "ename": "TypeError",
     "evalue": "__init__() takes exactly 2 arguments (1 given)",
     "output_type": "error",
     "traceback": [
      "\u001b[0;31m---------------------------------------------------------------------------\u001b[0m",
      "\u001b[0;31mTypeError\u001b[0m                                 Traceback (most recent call last)",
      "\u001b[0;32m<ipython-input-27-b0b674db599a>\u001b[0m in \u001b[0;36m<module>\u001b[0;34m()\u001b[0m\n\u001b[1;32m      1\u001b[0m \u001b[0;31m# We can't do the following, since we have only defined an initialization\u001b[0m\u001b[0;34m\u001b[0m\u001b[0;34m\u001b[0m\u001b[0m\n\u001b[1;32m      2\u001b[0m \u001b[0;31m# that requires an argument, the name of the fruit\u001b[0m\u001b[0;34m\u001b[0m\u001b[0;34m\u001b[0m\u001b[0m\n\u001b[0;32m----> 3\u001b[0;31m \u001b[0mtest\u001b[0m \u001b[0;34m=\u001b[0m \u001b[0mFruit\u001b[0m\u001b[0;34m(\u001b[0m\u001b[0;34m)\u001b[0m\u001b[0;34m\u001b[0m\u001b[0m\n\u001b[0m",
      "\u001b[0;31mTypeError\u001b[0m: __init__() takes exactly 2 arguments (1 given)"
     ]
    }
   ],
   "source": [
    "# We can't do the following, since we have only defined an initialization \n",
    "# that requires an argument, the name of the fruit\n",
    "test = Fruit()"
   ]
  },
  {
   "cell_type": "code",
   "execution_count": 28,
   "metadata": {},
   "outputs": [],
   "source": [
    "# A comment in the slides\n",
    "# For stuff to be compatible in both python 2 and 3\n",
    "# \"Recommendation: always declare top-level classes with object\""
   ]
  },
  {
   "cell_type": "code",
   "execution_count": null,
   "metadata": {},
   "outputs": [],
   "source": []
  }
 ],
 "metadata": {
  "kernelspec": {
   "display_name": "Python 2",
   "language": "python",
   "name": "python2"
  },
  "language_info": {
   "codemirror_mode": {
    "name": "ipython",
    "version": 2
   },
   "file_extension": ".py",
   "mimetype": "text/x-python",
   "name": "python",
   "nbconvert_exporter": "python",
   "pygments_lexer": "ipython2",
   "version": "2.7.12"
  }
 },
 "nbformat": 4,
 "nbformat_minor": 2
}
