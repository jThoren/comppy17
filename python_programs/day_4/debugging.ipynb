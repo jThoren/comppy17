{
 "cells": [
  {
   "cell_type": "code",
   "execution_count": 1,
   "metadata": {},
   "outputs": [],
   "source": [
    "# Debugging package\n",
    "# There's another debugging package pydb\n",
    "import pdb"
   ]
  },
  {
   "cell_type": "code",
   "execution_count": 2,
   "metadata": {},
   "outputs": [
    {
     "data": {
      "text/plain": [
       "['Pdb',\n",
       " 'Repr',\n",
       " 'Restart',\n",
       " 'TESTCMD',\n",
       " '__all__',\n",
       " '__builtins__',\n",
       " '__doc__',\n",
       " '__file__',\n",
       " '__name__',\n",
       " '__package__',\n",
       " '_repr',\n",
       " '_saferepr',\n",
       " 'bdb',\n",
       " 'cmd',\n",
       " 'find_function',\n",
       " 'help',\n",
       " 'line_prefix',\n",
       " 'linecache',\n",
       " 'main',\n",
       " 'os',\n",
       " 'pm',\n",
       " 'post_mortem',\n",
       " 'pprint',\n",
       " 're',\n",
       " 'run',\n",
       " 'runcall',\n",
       " 'runctx',\n",
       " 'runeval',\n",
       " 'set_trace',\n",
       " 'sys',\n",
       " 'test',\n",
       " 'traceback']"
      ]
     },
     "execution_count": 2,
     "metadata": {},
     "output_type": "execute_result"
    }
   ],
   "source": [
    "# When running \n",
    "# s, step: moves to the next line, enters functions\n",
    "# n, next: moves to the next line, doesn't enter functions\n",
    "# b, break: inserts another breakpoint\n",
    "# c, continue: continues to the next breakpoint\n",
    "dir(pdb)"
   ]
  },
  {
   "cell_type": "code",
   "execution_count": 4,
   "metadata": {},
   "outputs": [
    {
     "name": "stdout",
     "output_type": "stream",
     "text": [
      "> <string>(1)<module>()\n",
      "(Pdb) continue\n",
      "Hello world!\n"
     ]
    }
   ],
   "source": [
    "# Can use the commands next or continue to go through the program\n",
    "# next: goes to the next line\n",
    "# continue: continues until the next breakpoint?\n",
    "pdb.run('print \"Hello world!\"')"
   ]
  },
  {
   "cell_type": "code",
   "execution_count": 5,
   "metadata": {},
   "outputs": [
    {
     "name": "stdout",
     "output_type": "stream",
     "text": [
      "> <string>(1)<module>()\n",
      "(Pdb) continue\n"
     ]
    },
    {
     "data": {
      "text/plain": [
       "True"
      ]
     },
     "execution_count": 5,
     "metadata": {},
     "output_type": "execute_result"
    }
   ],
   "source": [
    "pdb.runeval('1 > 0')"
   ]
  },
  {
   "cell_type": "code",
   "execution_count": 6,
   "metadata": {},
   "outputs": [],
   "source": [
    "# Can run files with\n",
    "# $ pdb mypythonfile.py\n",
    "# instead of the usual\n",
    "# $ python mypythonfile.py"
   ]
  },
  {
   "cell_type": "code",
   "execution_count": 7,
   "metadata": {},
   "outputs": [],
   "source": [
    "def stuff():\n",
    "    def f(x):\n",
    "        pdb.set_trace()\n",
    "        return x - 2\n",
    "    x = 25.0\n",
    "    \n",
    "    y = f(x)\n",
    "    \n",
    "    pdb.set_trace()\n",
    "    \n",
    "    return y\n",
    "    "
   ]
  },
  {
   "cell_type": "code",
   "execution_count": 9,
   "metadata": {},
   "outputs": [
    {
     "name": "stdout",
     "output_type": "stream",
     "text": [
      "> <string>(1)<module>()\n",
      "(Pdb) continue\n",
      "> <ipython-input-7-c349fbb9aa5e>(4)f()\n",
      "-> return x - 2\n",
      "(Pdb) print(x)\n",
      "25.0\n",
      "(Pdb) list\n",
      "  1  \tdef stuff():\n",
      "  2  \t    def f(x):\n",
      "  3  \t        pdb.set_trace()\n",
      "  4  ->\t        return x - 2\n",
      "  5  \t    x = 25.0\n",
      "  6  \t    \n",
      "  7  \t    y = f(x)\n",
      "  8  \t    \n",
      "  9  \t    pdb.set_trace()\n",
      " 10  \t    \n",
      " 11  \t    return y\n",
      "(Pdb) continue\n",
      "> <ipython-input-7-c349fbb9aa5e>(11)stuff()\n",
      "-> return y\n",
      "(Pdb) print y\n",
      "23.0\n",
      "(Pdb) print x\n",
      "25.0\n",
      "(Pdb) list\n",
      "  6  \t    \n",
      "  7  \t    y = f(x)\n",
      "  8  \t    \n",
      "  9  \t    pdb.set_trace()\n",
      " 10  \t    \n",
      " 11  ->\t    return y\n",
      " 12  \t    \n",
      "[EOF]\n",
      "(Pdb) continue\n"
     ]
    }
   ],
   "source": [
    "# Example of how to use set_trace() and pdb\n",
    "# Can use continue to jump to set_trace() and print(x) to see the variable\n",
    "# x, list to see where in the program/function we are\n",
    "# c can be used as a short for continue\n",
    "# q can be used as a short for quit()\n",
    "pdb.run('stuff()')"
   ]
  },
  {
   "cell_type": "code",
   "execution_count": null,
   "metadata": {},
   "outputs": [],
   "source": []
  }
 ],
 "metadata": {
  "kernelspec": {
   "display_name": "Python 2",
   "language": "python",
   "name": "python2"
  },
  "language_info": {
   "codemirror_mode": {
    "name": "ipython",
    "version": 2
   },
   "file_extension": ".py",
   "mimetype": "text/x-python",
   "name": "python",
   "nbconvert_exporter": "python",
   "pygments_lexer": "ipython2",
   "version": "2.7.12"
  }
 },
 "nbformat": 4,
 "nbformat_minor": 2
}
