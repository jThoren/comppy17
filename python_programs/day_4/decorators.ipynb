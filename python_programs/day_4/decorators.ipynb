{
 "cells": [
  {
   "cell_type": "code",
   "execution_count": 27,
   "metadata": {},
   "outputs": [],
   "source": [
    "# Our decorator\n",
    "# What is required for a decorator? a wrapper() function?\n",
    "def verbose(func):\n",
    "    def wrapper():\n",
    "        print(\"before \" + func.__name__)\n",
    "        result = func()\n",
    "        print(\"after \" + func.__name__)\n",
    "        return result\n",
    "    return wrapper"
   ]
  },
  {
   "cell_type": "code",
   "execution_count": 28,
   "metadata": {},
   "outputs": [
    {
     "name": "stdout",
     "output_type": "stream",
     "text": [
      "hello\n"
     ]
    }
   ],
   "source": [
    "# Our very simple function\n",
    "def hello():\n",
    "    print(\"hello\")\n",
    "hello()"
   ]
  },
  {
   "cell_type": "code",
   "execution_count": 29,
   "metadata": {},
   "outputs": [],
   "source": [
    "# Add the decorator to the function\n",
    "hello = verbose(hello)"
   ]
  },
  {
   "cell_type": "code",
   "execution_count": 26,
   "metadata": {},
   "outputs": [
    {
     "name": "stdout",
     "output_type": "stream",
     "text": [
      "beforewrapper\n",
      "beforewrapper\n",
      "beforewrapper\n",
      "beforehello\n",
      "hello\n",
      "afterhello\n",
      "afterwrapper\n",
      "afterwrapper\n",
      "afterwrapper\n"
     ]
    }
   ],
   "source": [
    "# Try running the function again\n",
    "hello()"
   ]
  },
  {
   "cell_type": "code",
   "execution_count": 30,
   "metadata": {},
   "outputs": [
    {
     "name": "stdout",
     "output_type": "stream",
     "text": [
      "before wrapper\n",
      "before hello\n",
      "hello\n",
      "after hello\n",
      "after wrapper\n",
      "before wrapper\n",
      "before wrapper\n",
      "before hello\n",
      "hello\n",
      "after hello\n",
      "after wrapper\n",
      "after wrapper\n"
     ]
    }
   ],
   "source": [
    "# we can keep adding the decorator\n",
    "hello = verbose(hello)\n",
    "hello()\n",
    "hello = verbose(hello)\n",
    "hello()"
   ]
  },
  {
   "cell_type": "code",
   "execution_count": 31,
   "metadata": {},
   "outputs": [],
   "source": [
    "@verbose\n",
    "def test():\n",
    "    print(\"This is a test function\")"
   ]
  },
  {
   "cell_type": "code",
   "execution_count": 32,
   "metadata": {},
   "outputs": [
    {
     "name": "stdout",
     "output_type": "stream",
     "text": [
      "before test\n",
      "This is a test function\n",
      "after test\n"
     ]
    }
   ],
   "source": [
    "test()"
   ]
  },
  {
   "cell_type": "code",
   "execution_count": 33,
   "metadata": {},
   "outputs": [],
   "source": [
    "def f(*args,**kwargs):\n",
    "    print(args)\n",
    "    print(kwargs)"
   ]
  },
  {
   "cell_type": "code",
   "execution_count": 34,
   "metadata": {},
   "outputs": [
    {
     "name": "stdout",
     "output_type": "stream",
     "text": [
      "(1, 2)\n",
      "{'c': 3, 'd': 4}\n"
     ]
    }
   ],
   "source": [
    "f(1,2,c=3,d=4)"
   ]
  },
  {
   "cell_type": "code",
   "execution_count": 38,
   "metadata": {},
   "outputs": [],
   "source": [
    "def verbose2(func):\n",
    "    def wrapper(*args,**kwargs):\n",
    "        print(\"before\",func.__name__)\n",
    "        print(\"with arguments\",args,kwargs)\n",
    "        result = func(*args,**kwargs)\n",
    "        print(\"after \",func.__name__)\n",
    "        return result\n",
    "    return wrapper"
   ]
  },
  {
   "cell_type": "code",
   "execution_count": 39,
   "metadata": {},
   "outputs": [],
   "source": [
    "@verbose2\n",
    "def hello2(name):\n",
    "    print(\"Hello %s!\" % name)"
   ]
  },
  {
   "cell_type": "code",
   "execution_count": 40,
   "metadata": {},
   "outputs": [
    {
     "name": "stdout",
     "output_type": "stream",
     "text": [
      "('before', 'hello2')\n",
      "('with arguments', ('Dolly',), {})\n",
      "Hello Dolly!\n",
      "('after ', 'hello2')\n"
     ]
    }
   ],
   "source": [
    "hello2('Dolly')"
   ]
  },
  {
   "cell_type": "code",
   "execution_count": 43,
   "metadata": {},
   "outputs": [],
   "source": [
    "# A parametrized wrapper\n",
    "def debug(flag=False):\n",
    "    def verbose3(func):\n",
    "        def wrapper(*args,**kwargs):\n",
    "            if flag:\n",
    "                print(\"before\",func.__name__)\n",
    "                print(\"with arguments\",args,kwargs)\n",
    "            result = func(*args,**kwargs)\n",
    "            if flag:\n",
    "                print(\"after\",func.__name__)\n",
    "            return result\n",
    "        return wrapper\n",
    "    return verbose3"
   ]
  },
  {
   "cell_type": "code",
   "execution_count": 45,
   "metadata": {},
   "outputs": [
    {
     "name": "stdout",
     "output_type": "stream",
     "text": [
      "Hello again Dolly!\n"
     ]
    }
   ],
   "source": [
    "@debug(False)\n",
    "def hello3(name):\n",
    "    print(\"Hello again %s!\" % name)\n",
    "hello3('Dolly')"
   ]
  },
  {
   "cell_type": "code",
   "execution_count": 46,
   "metadata": {},
   "outputs": [
    {
     "name": "stdout",
     "output_type": "stream",
     "text": [
      "('before', 'hello3')\n",
      "('with arguments', ('Dolly',), {})\n",
      "Hello again Dolly!\n",
      "('after', 'hello3')\n"
     ]
    }
   ],
   "source": [
    "@debug(True)\n",
    "def hello3(name):\n",
    "    print(\"Hello again %s!\" % name)\n",
    "hello3('Dolly')"
   ]
  },
  {
   "cell_type": "code",
   "execution_count": null,
   "metadata": {},
   "outputs": [],
   "source": []
  }
 ],
 "metadata": {
  "kernelspec": {
   "display_name": "Python 2",
   "language": "python",
   "name": "python2"
  },
  "language_info": {
   "codemirror_mode": {
    "name": "ipython",
    "version": 2
   },
   "file_extension": ".py",
   "mimetype": "text/x-python",
   "name": "python",
   "nbconvert_exporter": "python",
   "pygments_lexer": "ipython2",
   "version": "2.7.12"
  }
 },
 "nbformat": 4,
 "nbformat_minor": 2
}
