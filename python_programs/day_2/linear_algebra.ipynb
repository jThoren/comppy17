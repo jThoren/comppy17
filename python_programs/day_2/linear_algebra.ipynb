{
 "cells": [
  {
   "cell_type": "code",
   "execution_count": 29,
   "metadata": {},
   "outputs": [],
   "source": [
    "# Library\n",
    "# numpy.org\n",
    "import numpy, time"
   ]
  },
  {
   "cell_type": "code",
   "execution_count": 4,
   "metadata": {},
   "outputs": [],
   "source": [
    "# If we want to see what's available\n",
    "#dir(numpy)"
   ]
  },
  {
   "cell_type": "code",
   "execution_count": 11,
   "metadata": {},
   "outputs": [
    {
     "name": "stdout",
     "output_type": "stream",
     "text": [
      "[ 0.  0.]\n",
      "[ 1.  0.] [ 1.  0.]\n"
     ]
    }
   ],
   "source": [
    "x = numpy.zeros(2)\n",
    "print(x)\n",
    "# Makes y a reference to x\n",
    "y = x\n",
    "x[0]=1; print x,y"
   ]
  },
  {
   "cell_type": "code",
   "execution_count": 10,
   "metadata": {},
   "outputs": [
    {
     "name": "stdout",
     "output_type": "stream",
     "text": [
      "True\n"
     ]
    }
   ],
   "source": [
    "print x is y"
   ]
  },
  {
   "cell_type": "code",
   "execution_count": 13,
   "metadata": {},
   "outputs": [
    {
     "name": "stdout",
     "output_type": "stream",
     "text": [
      "False\n"
     ]
    }
   ],
   "source": [
    "z = x.copy()\n",
    "print z is x"
   ]
  },
  {
   "cell_type": "code",
   "execution_count": 17,
   "metadata": {},
   "outputs": [
    {
     "name": "stdout",
     "output_type": "stream",
     "text": [
      "[ 0.   0.2  0.4  0.6  0.8  1. ]\n",
      "[ 0.   0.2  0.4  0.6  0.8]\n"
     ]
    }
   ],
   "source": [
    "# Can fill arrays with values\n",
    "print numpy.linspace(0,1,6)\n",
    "print numpy.arange(0,1,0.2)"
   ]
  },
  {
   "cell_type": "code",
   "execution_count": 18,
   "metadata": {},
   "outputs": [
    {
     "name": "stdout",
     "output_type": "stream",
     "text": [
      "[ 1.  2.  3.]\n"
     ]
    }
   ],
   "source": [
    "# Arrays from lists\n",
    "la = [1.,2.,3.]\n",
    "a = numpy.array(la)\n",
    "print a"
   ]
  },
  {
   "cell_type": "code",
   "execution_count": 19,
   "metadata": {},
   "outputs": [
    {
     "name": "stdout",
     "output_type": "stream",
     "text": [
      "[ 4.  5.  6.]\n"
     ]
    }
   ],
   "source": [
    "# Arrays from lists\n",
    "lb = [4.,5.,6.]\n",
    "b = numpy.array(lb)\n",
    "print b"
   ]
  },
  {
   "cell_type": "code",
   "execution_count": 21,
   "metadata": {},
   "outputs": [
    {
     "name": "stdout",
     "output_type": "stream",
     "text": [
      "[[ 1.  2.  3.]\n",
      " [ 4.  5.  6.]]\n"
     ]
    }
   ],
   "source": [
    "# We can combine into larger arrays\n",
    "ab = numpy.array([la,lb])\n",
    "print ab"
   ]
  },
  {
   "cell_type": "code",
   "execution_count": 22,
   "metadata": {},
   "outputs": [
    {
     "name": "stdout",
     "output_type": "stream",
     "text": [
      "1. 2. 3.\n",
      "\n",
      "4. 5. 6.\n"
     ]
    }
   ],
   "source": [
    "# Normal way of accessing file\n",
    "for line in open('a.dat'):\n",
    "    print line"
   ]
  },
  {
   "cell_type": "code",
   "execution_count": 28,
   "metadata": {},
   "outputs": [
    {
     "name": "stdout",
     "output_type": "stream",
     "text": [
      "[[ 1.  2.  3.]\n",
      " [ 4.  5.  6.]]\n",
      "(2, 3)\n",
      "(6,)\n"
     ]
    }
   ],
   "source": [
    "# Load data from a file\n",
    "a = numpy.loadtxt('a.dat')\n",
    "print a\n",
    "# We can easily change the shape of an array\n",
    "print a.shape\n",
    "a.shape = (6,)\n",
    "print a.shape"
   ]
  },
  {
   "cell_type": "code",
   "execution_count": 32,
   "metadata": {},
   "outputs": [
    {
     "name": "stdout",
     "output_type": "stream",
     "text": [
      "('Loop timing', 12.151718999999998)\n"
     ]
    }
   ],
   "source": [
    "n = 256\n",
    "a = numpy.ones((n,n))\n",
    "b = numpy.ones((n,n))\n",
    "c = numpy.zeros((n,n))\n",
    "t1 = time.clock()\n",
    "for i in range(n):\n",
    "    for j in range(n):\n",
    "        for k in range(n):\n",
    "            c[i,j] += a[i,k]*b[k,j]\n",
    "t2 = time.clock()\n",
    "print(\"Loop timing\",t2-t1)"
   ]
  },
  {
   "cell_type": "code",
   "execution_count": 33,
   "metadata": {},
   "outputs": [
    {
     "name": "stdout",
     "output_type": "stream",
     "text": [
      "('dot timing', 0.01580600000000132)\n"
     ]
    }
   ],
   "source": [
    "t1 = time.clock()\n",
    "c = numpy.dot(a,b)\n",
    "t2 = time.clock()\n",
    "print(\"dot timing\",t2-t1)"
   ]
  },
  {
   "cell_type": "code",
   "execution_count": null,
   "metadata": {},
   "outputs": [],
   "source": []
  }
 ],
 "metadata": {
  "kernelspec": {
   "display_name": "Python 2",
   "language": "python",
   "name": "python2"
  },
  "language_info": {
   "codemirror_mode": {
    "name": "ipython",
    "version": 2
   },
   "file_extension": ".py",
   "mimetype": "text/x-python",
   "name": "python",
   "nbconvert_exporter": "python",
   "pygments_lexer": "ipython2",
   "version": "2.7.12"
  }
 },
 "nbformat": 4,
 "nbformat_minor": 2
}
