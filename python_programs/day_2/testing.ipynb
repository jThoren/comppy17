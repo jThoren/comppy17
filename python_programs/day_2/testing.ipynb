{
 "cells": [
  {
   "cell_type": "code",
   "execution_count": 1,
   "metadata": {},
   "outputs": [],
   "source": [
    "# TDD: test driven development"
   ]
  },
  {
   "cell_type": "code",
   "execution_count": 15,
   "metadata": {},
   "outputs": [],
   "source": [
    "# Doc-string, the first string in a function\n",
    "def mymax(x,y):\n",
    "    \"\"\"\n",
    "    Returns the max of variables that have the operator > defined\n",
    "    \n",
    "    Input parameters: x,y, any type with > defined.\n",
    "    \n",
    "    >>> mymax(3,5)\n",
    "    5\n",
    "    \"\"\"\n",
    "    if x > y:\n",
    "        return x\n",
    "    else:\n",
    "        return y"
   ]
  },
  {
   "cell_type": "code",
   "execution_count": 16,
   "metadata": {},
   "outputs": [
    {
     "name": "stdout",
     "output_type": "stream",
     "text": [
      "['__call__', '__class__', '__closure__', '__code__', '__defaults__', '__delattr__', '__dict__', '__doc__', '__format__', '__get__', '__getattribute__', '__globals__', '__hash__', '__init__', '__module__', '__name__', '__new__', '__reduce__', '__reduce_ex__', '__repr__', '__setattr__', '__sizeof__', '__str__', '__subclasshook__', 'func_closure', 'func_code', 'func_defaults', 'func_dict', 'func_doc', 'func_globals', 'func_name']\n",
      "\n",
      "    Returns the max of variables that have the operator > defined\n",
      "    \n",
      "    Input parameters: x,y, any type with > defined.\n",
      "    \n",
      "    >>> mymax(3,5)\n",
      "    5\n",
      "    \n"
     ]
    }
   ],
   "source": [
    "# We can see the doc string as an attribute of the function,\n",
    "# it's '__doc__' in the following\n",
    "print(dir(mymax))\n",
    "print(mymax.__doc__)"
   ]
  },
  {
   "cell_type": "code",
   "execution_count": 17,
   "metadata": {},
   "outputs": [
    {
     "name": "stdout",
     "output_type": "stream",
     "text": [
      "Help on function mymax in module __main__:\n",
      "\n",
      "mymax(x, y)\n",
      "    Returns the max of variables that have the operator > defined\n",
      "    \n",
      "    Input parameters: x,y, any type with > defined.\n",
      "    \n",
      "    >>> mymax(3,5)\n",
      "    5\n",
      "\n"
     ]
    }
   ],
   "source": [
    "# Can be seen when using the function \"help\"\n",
    "help(mymax)"
   ]
  },
  {
   "cell_type": "code",
   "execution_count": 14,
   "metadata": {},
   "outputs": [],
   "source": [
    "# In the terminal we can write:\n",
    "# $ pydoc myfile.py\n",
    "# gives output similar to help(someFunction) but for all functions\n",
    "# etc in a python file"
   ]
  },
  {
   "cell_type": "code",
   "execution_count": 18,
   "metadata": {},
   "outputs": [],
   "source": [
    "# Can run \n",
    "# $ python -m doctest test.py -v\n",
    "# to check if our file is passing the tests (-v is a verbose flag, \n",
    "# obviously not required)"
   ]
  },
  {
   "cell_type": "code",
   "execution_count": 19,
   "metadata": {},
   "outputs": [],
   "source": [
    "# We can add the following to make the tests run when we do python\n",
    "# OurFile.py\n",
    "# if __name__ == \"__main__\":\n",
    "#    import doctest\n",
    "#    doctest.testmod()"
   ]
  },
  {
   "cell_type": "code",
   "execution_count": 20,
   "metadata": {},
   "outputs": [],
   "source": [
    "# Can create a file test_mymath.py with\n",
    "# import mymath\n",
    "# def test_mymax():\n",
    "#     assert mymath.mymath(3,5) == 5"
   ]
  },
  {
   "cell_type": "code",
   "execution_count": null,
   "metadata": {},
   "outputs": [],
   "source": [
    "# Then we can test this file with\n",
    "\n",
    "# Run and check all of the test functions:\n",
    "# $ nosetests test_mymath.py\n",
    "\n",
    "# To run with debugger\n",
    "# $ nosetests  test_calculate.py  --pdb\n",
    "\n",
    "# Also get the coverage of the test, how many lines are \n",
    "# actually checked\n",
    "# $ nosetests test_mymath.py --with-coverage\n",
    "# Need to install something for this"
   ]
  }
 ],
 "metadata": {
  "kernelspec": {
   "display_name": "Python 2",
   "language": "python",
   "name": "python2"
  },
  "language_info": {
   "codemirror_mode": {
    "name": "ipython",
    "version": 2
   },
   "file_extension": ".py",
   "mimetype": "text/x-python",
   "name": "python",
   "nbconvert_exporter": "python",
   "pygments_lexer": "ipython2",
   "version": "2.7.12"
  }
 },
 "nbformat": 4,
 "nbformat_minor": 2
}
