{
 "cells": [
  {
   "cell_type": "code",
   "execution_count": 1,
   "metadata": {},
   "outputs": [],
   "source": [
    "# We can use virtualenv to make programs compatible with python 2\n",
    "# and python 3\n",
    "# $ virtualenv -p python2 venv2\n",
    "# $ virtualenv -p python3 venv3\n",
    "# Can activate by\n",
    "# $ source venv2/bin/activate"
   ]
  },
  {
   "cell_type": "code",
   "execution_count": 2,
   "metadata": {},
   "outputs": [],
   "source": [
    "# After having sourced the activate script\n",
    "# Check if we have pytest\n",
    "# $ python -m pytest\n",
    "# If we don't\n",
    "# $ pip install pytest\n",
    "# and \n",
    "# $ pip install pytest-cov\n",
    "# to get coverage"
   ]
  },
  {
   "cell_type": "code",
   "execution_count": 3,
   "metadata": {},
   "outputs": [],
   "source": [
    "# Now we can run \n",
    "# $ python -m pytest test_mymath.py -v --cov=mymath\n",
    "# To see which lines are missing\n",
    "# $ python -m pytest test_mymath.py -v --cov=mymath --cov-report=term-missing\n",
    "# To get an html page\n",
    "# $ python -m pytest test_mymath.py -v --cov=mymath --cov-report=html"
   ]
  },
  {
   "cell_type": "code",
   "execution_count": null,
   "metadata": {},
   "outputs": [],
   "source": [
    "# We can now do the same for python 3"
   ]
  }
 ],
 "metadata": {
  "kernelspec": {
   "display_name": "Python 2",
   "language": "python",
   "name": "python2"
  },
  "language_info": {
   "codemirror_mode": {
    "name": "ipython",
    "version": 2
   },
   "file_extension": ".py",
   "mimetype": "text/x-python",
   "name": "python",
   "nbconvert_exporter": "python",
   "pygments_lexer": "ipython2",
   "version": "2.7.12"
  }
 },
 "nbformat": 4,
 "nbformat_minor": 2
}
