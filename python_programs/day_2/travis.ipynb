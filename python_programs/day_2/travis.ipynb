{
 "cells": [
  {
   "cell_type": "code",
   "execution_count": 1,
   "metadata": {},
   "outputs": [],
   "source": [
    "# Can log in to travis-ci.org with github account"
   ]
  },
  {
   "cell_type": "code",
   "execution_count": 2,
   "metadata": {},
   "outputs": [],
   "source": [
    "# Add a file .travis.yml to the repository\n",
    "# specify languages/test/stuff to install\n",
    "# FOLLOWING:\n",
    "#language: python\n",
    "#python:\n",
    "#  - \"2.7\" -\n",
    "#  - \"3.6\" -\n",
    "#install:\n",
    "#  - pip install pytest pytest-cov\n",
    "#before_script:\n",
    "#  - cd python_programs/day_2/\n",
    "#script:\n",
    "#  - cd python_programs/day_2/\n",
    "#  - python -m pytest test_mymath.py -v --cov=mymath --cov-report=html\n",
    "#after_success:\n",
    "#  - coveralls"
   ]
  },
  {
   "cell_type": "code",
   "execution_count": null,
   "metadata": {},
   "outputs": [],
   "source": [
    "# coveralls.io"
   ]
  }
 ],
 "metadata": {
  "kernelspec": {
   "display_name": "Python 2",
   "language": "python",
   "name": "python2"
  },
  "language_info": {
   "codemirror_mode": {
    "name": "ipython",
    "version": 2
   },
   "file_extension": ".py",
   "mimetype": "text/x-python",
   "name": "python",
   "nbconvert_exporter": "python",
   "pygments_lexer": "ipython2",
   "version": "2.7.12"
  }
 },
 "nbformat": 4,
 "nbformat_minor": 2
}
